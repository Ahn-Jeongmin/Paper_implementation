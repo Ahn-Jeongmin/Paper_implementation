{
  "nbformat": 4,
  "nbformat_minor": 0,
  "metadata": {
    "colab": {
      "provenance": [],
      "gpuType": "T4"
    },
    "kernelspec": {
      "name": "python3",
      "display_name": "Python 3"
    },
    "language_info": {
      "name": "python"
    },
    "accelerator": "GPU"
  },
  "cells": [
    {
      "cell_type": "code",
      "source": [
        "!pip install unidecode"
      ],
      "metadata": {
        "colab": {
          "base_uri": "https://localhost:8080/"
        },
        "id": "LyvtCd9BcK2k",
        "outputId": "2299dfe3-6a6f-44f0-b6dc-f6d508c7c23e"
      },
      "execution_count": null,
      "outputs": [
        {
          "output_type": "stream",
          "name": "stdout",
          "text": [
            "Requirement already satisfied: unidecode in /usr/local/lib/python3.10/dist-packages (1.3.7)\n"
          ]
        }
      ]
    },
    {
      "cell_type": "code",
      "source": [
        "import unidecode\n",
        "import string\n",
        "import random\n",
        "import re\n",
        "import os\n",
        "\n",
        "import torch\n",
        "import torch.nn as nn\n",
        "from torch.autograd import Variable"
      ],
      "metadata": {
        "id": "8alWJmcwaY-6"
      },
      "execution_count": null,
      "outputs": []
    },
    {
      "cell_type": "code",
      "execution_count": null,
      "metadata": {
        "colab": {
          "base_uri": "https://localhost:8080/",
          "height": 68
        },
        "id": "0WigHafDZ4vT",
        "outputId": "704d3f48-8e67-4c03-ff99-0f1a10f32c40"
      },
      "outputs": [
        {
          "output_type": "display_data",
          "data": {
            "text/plain": [
              "<IPython.core.display.HTML object>"
            ],
            "text/html": [
              "\n",
              "     <input type=\"file\" id=\"files-07418277-8f9a-4b5b-9cdb-3b6152c170c5\" name=\"files[]\" multiple disabled\n",
              "        style=\"border:none\" />\n",
              "     <output id=\"result-07418277-8f9a-4b5b-9cdb-3b6152c170c5\">\n",
              "      Upload widget is only available when the cell has been executed in the\n",
              "      current browser session. Please rerun this cell to enable.\n",
              "      </output>\n",
              "      <script>// Copyright 2017 Google LLC\n",
              "//\n",
              "// Licensed under the Apache License, Version 2.0 (the \"License\");\n",
              "// you may not use this file except in compliance with the License.\n",
              "// You may obtain a copy of the License at\n",
              "//\n",
              "//      http://www.apache.org/licenses/LICENSE-2.0\n",
              "//\n",
              "// Unless required by applicable law or agreed to in writing, software\n",
              "// distributed under the License is distributed on an \"AS IS\" BASIS,\n",
              "// WITHOUT WARRANTIES OR CONDITIONS OF ANY KIND, either express or implied.\n",
              "// See the License for the specific language governing permissions and\n",
              "// limitations under the License.\n",
              "\n",
              "/**\n",
              " * @fileoverview Helpers for google.colab Python module.\n",
              " */\n",
              "(function(scope) {\n",
              "function span(text, styleAttributes = {}) {\n",
              "  const element = document.createElement('span');\n",
              "  element.textContent = text;\n",
              "  for (const key of Object.keys(styleAttributes)) {\n",
              "    element.style[key] = styleAttributes[key];\n",
              "  }\n",
              "  return element;\n",
              "}\n",
              "\n",
              "// Max number of bytes which will be uploaded at a time.\n",
              "const MAX_PAYLOAD_SIZE = 100 * 1024;\n",
              "\n",
              "function _uploadFiles(inputId, outputId) {\n",
              "  const steps = uploadFilesStep(inputId, outputId);\n",
              "  const outputElement = document.getElementById(outputId);\n",
              "  // Cache steps on the outputElement to make it available for the next call\n",
              "  // to uploadFilesContinue from Python.\n",
              "  outputElement.steps = steps;\n",
              "\n",
              "  return _uploadFilesContinue(outputId);\n",
              "}\n",
              "\n",
              "// This is roughly an async generator (not supported in the browser yet),\n",
              "// where there are multiple asynchronous steps and the Python side is going\n",
              "// to poll for completion of each step.\n",
              "// This uses a Promise to block the python side on completion of each step,\n",
              "// then passes the result of the previous step as the input to the next step.\n",
              "function _uploadFilesContinue(outputId) {\n",
              "  const outputElement = document.getElementById(outputId);\n",
              "  const steps = outputElement.steps;\n",
              "\n",
              "  const next = steps.next(outputElement.lastPromiseValue);\n",
              "  return Promise.resolve(next.value.promise).then((value) => {\n",
              "    // Cache the last promise value to make it available to the next\n",
              "    // step of the generator.\n",
              "    outputElement.lastPromiseValue = value;\n",
              "    return next.value.response;\n",
              "  });\n",
              "}\n",
              "\n",
              "/**\n",
              " * Generator function which is called between each async step of the upload\n",
              " * process.\n",
              " * @param {string} inputId Element ID of the input file picker element.\n",
              " * @param {string} outputId Element ID of the output display.\n",
              " * @return {!Iterable<!Object>} Iterable of next steps.\n",
              " */\n",
              "function* uploadFilesStep(inputId, outputId) {\n",
              "  const inputElement = document.getElementById(inputId);\n",
              "  inputElement.disabled = false;\n",
              "\n",
              "  const outputElement = document.getElementById(outputId);\n",
              "  outputElement.innerHTML = '';\n",
              "\n",
              "  const pickedPromise = new Promise((resolve) => {\n",
              "    inputElement.addEventListener('change', (e) => {\n",
              "      resolve(e.target.files);\n",
              "    });\n",
              "  });\n",
              "\n",
              "  const cancel = document.createElement('button');\n",
              "  inputElement.parentElement.appendChild(cancel);\n",
              "  cancel.textContent = 'Cancel upload';\n",
              "  const cancelPromise = new Promise((resolve) => {\n",
              "    cancel.onclick = () => {\n",
              "      resolve(null);\n",
              "    };\n",
              "  });\n",
              "\n",
              "  // Wait for the user to pick the files.\n",
              "  const files = yield {\n",
              "    promise: Promise.race([pickedPromise, cancelPromise]),\n",
              "    response: {\n",
              "      action: 'starting',\n",
              "    }\n",
              "  };\n",
              "\n",
              "  cancel.remove();\n",
              "\n",
              "  // Disable the input element since further picks are not allowed.\n",
              "  inputElement.disabled = true;\n",
              "\n",
              "  if (!files) {\n",
              "    return {\n",
              "      response: {\n",
              "        action: 'complete',\n",
              "      }\n",
              "    };\n",
              "  }\n",
              "\n",
              "  for (const file of files) {\n",
              "    const li = document.createElement('li');\n",
              "    li.append(span(file.name, {fontWeight: 'bold'}));\n",
              "    li.append(span(\n",
              "        `(${file.type || 'n/a'}) - ${file.size} bytes, ` +\n",
              "        `last modified: ${\n",
              "            file.lastModifiedDate ? file.lastModifiedDate.toLocaleDateString() :\n",
              "                                    'n/a'} - `));\n",
              "    const percent = span('0% done');\n",
              "    li.appendChild(percent);\n",
              "\n",
              "    outputElement.appendChild(li);\n",
              "\n",
              "    const fileDataPromise = new Promise((resolve) => {\n",
              "      const reader = new FileReader();\n",
              "      reader.onload = (e) => {\n",
              "        resolve(e.target.result);\n",
              "      };\n",
              "      reader.readAsArrayBuffer(file);\n",
              "    });\n",
              "    // Wait for the data to be ready.\n",
              "    let fileData = yield {\n",
              "      promise: fileDataPromise,\n",
              "      response: {\n",
              "        action: 'continue',\n",
              "      }\n",
              "    };\n",
              "\n",
              "    // Use a chunked sending to avoid message size limits. See b/62115660.\n",
              "    let position = 0;\n",
              "    do {\n",
              "      const length = Math.min(fileData.byteLength - position, MAX_PAYLOAD_SIZE);\n",
              "      const chunk = new Uint8Array(fileData, position, length);\n",
              "      position += length;\n",
              "\n",
              "      const base64 = btoa(String.fromCharCode.apply(null, chunk));\n",
              "      yield {\n",
              "        response: {\n",
              "          action: 'append',\n",
              "          file: file.name,\n",
              "          data: base64,\n",
              "        },\n",
              "      };\n",
              "\n",
              "      let percentDone = fileData.byteLength === 0 ?\n",
              "          100 :\n",
              "          Math.round((position / fileData.byteLength) * 100);\n",
              "      percent.textContent = `${percentDone}% done`;\n",
              "\n",
              "    } while (position < fileData.byteLength);\n",
              "  }\n",
              "\n",
              "  // All done.\n",
              "  yield {\n",
              "    response: {\n",
              "      action: 'complete',\n",
              "    }\n",
              "  };\n",
              "}\n",
              "\n",
              "scope.google = scope.google || {};\n",
              "scope.google.colab = scope.google.colab || {};\n",
              "scope.google.colab._files = {\n",
              "  _uploadFiles,\n",
              "  _uploadFilesContinue,\n",
              "};\n",
              "})(self);\n",
              "</script> "
            ]
          },
          "metadata": {}
        },
        {
          "output_type": "stream",
          "name": "stdout",
          "text": [
            "Saving lose_yourself_eminem.txt to lose_yourself_eminem (3).txt\n"
          ]
        }
      ],
      "source": [
        "from google.colab import files\n",
        "file_uploaded = files.upload()\n",
        "\n",
        "file_uploaded = files.upload()"
      ]
    },
    {
      "cell_type": "code",
      "source": [
        "file = unidecode.unidecode(open('lose_yourself_eminem.txt').read())\n",
        "file_len = len(file)\n",
        "print('file_len =', file_len)"
      ],
      "metadata": {
        "colab": {
          "base_uri": "https://localhost:8080/"
        },
        "id": "erRT0PwWb9nC",
        "outputId": "8996addf-12f1-4b37-b4cc-e723f3d4a197"
      },
      "execution_count": null,
      "outputs": [
        {
          "output_type": "stream",
          "name": "stdout",
          "text": [
            "file_len = 4086\n"
          ]
        }
      ]
    },
    {
      "cell_type": "code",
      "source": [
        "chunk_len = 200\n",
        "\n",
        "def random_chunk():\n",
        "    start_index = random.randint(0, file_len - chunk_len)\n",
        "    end_index = start_index + chunk_len + 1\n",
        "    return file[start_index:end_index]\n",
        "\n",
        "print(random_chunk())"
      ],
      "metadata": {
        "colab": {
          "base_uri": "https://localhost:8080/"
        },
        "id": "fGCx6YlhcUEE",
        "outputId": "cd3e6e5e-db12-444f-9bc6-360a2d446075"
      },
      "execution_count": null,
      "outputs": [
        {
          "output_type": "stream",
          "name": "stdout",
          "text": [
            "e music\n",
            "The moment, you own it, you better never let it go (Go)\n",
            "You only get one shot, do not miss your chance to blow\n",
            "This opportunity comes once in a lifetime, yo\n",
            "You better lose yourself in the musi\n"
          ]
        }
      ]
    },
    {
      "cell_type": "markdown",
      "source": [],
      "metadata": {
        "id": "ruV4f0mBg4aH"
      }
    },
    {
      "cell_type": "code",
      "source": [
        "all_characters = string.printable\n",
        "print(all_characters)\n",
        "\n",
        "def char_tensor(string):\n",
        "    tensor = torch.zeros(len(string)).long()\n",
        "    for c in range(len(string)):\n",
        "        tensor[c] = all_characters.index(string[c])\n",
        "    return Variable(tensor)\n",
        "\n",
        "print('abcDEF is changed to ', char_tensor('abcDEF'))"
      ],
      "metadata": {
        "colab": {
          "base_uri": "https://localhost:8080/"
        },
        "id": "9FZAKcqjcV0U",
        "outputId": "4c462e1a-f84d-4505-bfb6-fa654593920c"
      },
      "execution_count": null,
      "outputs": [
        {
          "output_type": "stream",
          "name": "stdout",
          "text": [
            "0123456789abcdefghijklmnopqrstuvwxyzABCDEFGHIJKLMNOPQRSTUVWXYZ!\"#$%&'()*+,-./:;<=>?@[\\]^_`{|}~ \t\n",
            "\r\u000b\f\n",
            "abcDEF is changed to  tensor([10, 11, 12, 39, 40, 41])\n"
          ]
        }
      ]
    },
    {
      "cell_type": "code",
      "source": [
        "def random_training_set():\n",
        "    chunk = random_chunk()\n",
        "    inputs = char_tensor(chunk[:-1])\n",
        "    targets = char_tensor(chunk[1:])\n",
        "    return inputs, targets"
      ],
      "metadata": {
        "id": "VrlfXwhwcYyl"
      },
      "execution_count": null,
      "outputs": []
    },
    {
      "cell_type": "code",
      "source": [
        "class LSTMModel(nn.Module):\n",
        "    def __init__(self, input_dim, hidden_dim, layer_dim, output_dim):\n",
        "        super(LSTMModel, self).__init__()\n",
        "\n",
        "        self.input_dim = input_dim\n",
        "        self.hidden_dim = hidden_dim\n",
        "        self.layer_dim = layer_dim\n",
        "        self.output_dim = output_dim\n",
        "\n",
        "        self.encoder = nn.Embedding(input_dim, hidden_dim)\n",
        "\n",
        "        # lstm\n",
        "        self.sig = nn.Sigmoid()\n",
        "        self.tanh = nn.Tanh()\n",
        "        self.f_gate_x = nn.Linear(hidden_dim, hidden_dim)\n",
        "        self.f_gate_h = nn.Linear(hidden_dim, hidden_dim)\n",
        "        self.i_gate_x = nn.Linear(hidden_dim, hidden_dim)\n",
        "        self.i_gate_h = nn.Linear(hidden_dim, hidden_dim)\n",
        "        self.o_gate_x = nn.Linear(hidden_dim, hidden_dim)\n",
        "        self.o_gate_h = nn.Linear(hidden_dim, hidden_dim)\n",
        "        self.c_state_x = nn.Linear(hidden_dim, hidden_dim)\n",
        "        self.c_state_h = nn.Linear(hidden_dim, hidden_dim)\n",
        "\n",
        "        self.decoder = nn.Linear(hidden_dim, output_dim)\n",
        "\n",
        "    def forward(self, input, hn, cn):\n",
        "        input = self.encoder(input.view(1, -1))\n",
        "\n",
        "        # lstm\n",
        "        input = input.view(1, 1, -1)\n",
        "        for t in range(input.size()[1]):\n",
        "            f = self.sig(self.f_gate_x(input[:,t,:]) + self.f_gate_h(hn[0,:,:]))\n",
        "            i = self.sig(self.i_gate_x(input[:,t,:]) + self.i_gate_h(hn[0,:,:]))\n",
        "            o = self.sig(self.o_gate_x(input[:,t,:]) + self.o_gate_h(hn[0,:,:]))\n",
        "            cb = self.tanh(self.c_state_x(input[:,t,:]) + self.c_state_h(hn[0,:,:]))\n",
        "\n",
        "            cn = torch.mul(f, cn) + torch.mul(i, cb)\n",
        "            hn = torch.mul(o, self.tanh(cn))\n",
        "            output = hn\n",
        "\n",
        "        output = self.decoder(output.view(1, -1))\n",
        "        return output, hn, cn\n",
        "\n",
        "    def init_hidden(self):\n",
        "        h0 = Variable(torch.zeros(self.layer_dim, 1, self.hidden_dim).cuda())\n",
        "        c0 = Variable(torch.zeros(self.layer_dim, 1, self.hidden_dim).cuda())\n",
        "        return h0, c0\n",
        "\n",
        "hidden_dim = 100\n",
        "n_layers = 1\n",
        "n_characters = len(all_characters)\n",
        "\n",
        "model = LSTMModel(n_characters, hidden_dim, n_layers, n_characters)\n",
        "model.cuda()"
      ],
      "metadata": {
        "colab": {
          "base_uri": "https://localhost:8080/"
        },
        "id": "NizvbOxXcqTl",
        "outputId": "8284143c-6551-4400-91c2-efb367a584b8"
      },
      "execution_count": null,
      "outputs": [
        {
          "output_type": "execute_result",
          "data": {
            "text/plain": [
              "LSTMModel(\n",
              "  (encoder): Embedding(100, 100)\n",
              "  (sig): Sigmoid()\n",
              "  (tanh): Tanh()\n",
              "  (f_gate_x): Linear(in_features=100, out_features=100, bias=True)\n",
              "  (f_gate_h): Linear(in_features=100, out_features=100, bias=True)\n",
              "  (i_gate_x): Linear(in_features=100, out_features=100, bias=True)\n",
              "  (i_gate_h): Linear(in_features=100, out_features=100, bias=True)\n",
              "  (o_gate_x): Linear(in_features=100, out_features=100, bias=True)\n",
              "  (o_gate_h): Linear(in_features=100, out_features=100, bias=True)\n",
              "  (c_state_x): Linear(in_features=100, out_features=100, bias=True)\n",
              "  (c_state_h): Linear(in_features=100, out_features=100, bias=True)\n",
              "  (decoder): Linear(in_features=100, out_features=100, bias=True)\n",
              ")"
            ]
          },
          "metadata": {},
          "execution_count": 8
        }
      ]
    },
    {
      "cell_type": "markdown",
      "source": [],
      "metadata": {
        "id": "VmM5fbCPk1CN"
      }
    },
    {
      "cell_type": "code",
      "source": [
        "criterion = nn.CrossEntropyLoss()\n",
        "\n",
        "lr = 0.005\n",
        "optimizer = torch.optim.Adam(model.parameters(), lr=lr)"
      ],
      "metadata": {
        "id": "YEcwdoL1cyHF"
      },
      "execution_count": null,
      "outputs": []
    },
    {
      "cell_type": "code",
      "source": [
        "def evaluate(prime_str='W', predict_len=100):\n",
        "    # suppose prims_str is a single character\n",
        "    # and use greedy search to predict the next character\n",
        "\n",
        "    hn, cn = model.init_hidden()\n",
        "    predicted = str()\n",
        "\n",
        "    for i in range(predict_len):\n",
        "        if i == 0:\n",
        "            char = prime_str\n",
        "\n",
        "        out, hn, cn = model(char_tensor(char).cuda(), hn, cn)\n",
        "\n",
        "        highest_out = torch.argmax(out)\n",
        "        char = all_characters[highest_out]\n",
        "\n",
        "        predicted += char\n",
        "\n",
        "    return predicted"
      ],
      "metadata": {
        "id": "KDZ_UDI_dIEw"
      },
      "execution_count": null,
      "outputs": []
    },
    {
      "cell_type": "code",
      "source": [
        "n_epochs = 2000\n",
        "print_every = 100\n",
        "plot_every = 10\n",
        "\n",
        "all_losses = []\n",
        "loss_avg = 0\n",
        "\n",
        "for epoch in range(1, n_epochs + 1):\n",
        "    # Load text\n",
        "    inputs, targets = random_training_set()\n",
        "    if inputs.size()[0] < 200: continue\n",
        "\n",
        "    # Clear gradients w.r.t. parameters\n",
        "    model.zero_grad()\n",
        "    optimizer.zero_grad()\n",
        "\n",
        "    # Forward pass\n",
        "    loss = 0\n",
        "    hn, cn = model.init_hidden()\n",
        "    for c in range(chunk_len):\n",
        "        out, hn, cn = model(inputs[c].cuda(), hn, cn)\n",
        "        loss += criterion(out, targets[c].unsqueeze(0).cuda())\n",
        "\n",
        "    # Backward pass\n",
        "    loss.backward()\n",
        "\n",
        "    # Updating parameters\n",
        "    optimizer.step()\n",
        "\n",
        "    loss_avg += loss.item() / chunk_len\n",
        "\n",
        "    if epoch % print_every == 0:\n",
        "        print('*'*25, 'epoch%d'%epoch, '*'*25)\n",
        "        print('loss %.4f'%loss.item())\n",
        "        print(evaluate('I', 100), '\\n')\n",
        "\n",
        "    if epoch % plot_every == 0:\n",
        "        all_losses.append(loss_avg / plot_every)\n",
        "        loss_avg = 0\n",
        "\n",
        "#################################################\n",
        "import matplotlib.pyplot as plt\n",
        "%matplotlib inline\n",
        "\n",
        "plt.figure()\n",
        "plt.plot(all_losses)"
      ],
      "metadata": {
        "colab": {
          "base_uri": "https://localhost:8080/",
          "height": 1000
        },
        "id": "luLH3fAldJrv",
        "outputId": "8c013701-0ab2-478a-e22a-5461301823ca"
      },
      "execution_count": null,
      "outputs": [
        {
          "output_type": "stream",
          "name": "stdout",
          "text": [
            "************************* epoch100 *************************\n",
            "loss 388.0764\n",
            "s on on on on on on on on on on on on on on on on on on on on on on on on on on on on on on on on on \n",
            "\n",
            "************************* epoch200 *************************\n",
            "loss 413.8141\n",
            " the mometter so lose the mometter so lose the mometter so lose the mometter so lose the mometter so \n",
            "\n",
            "************************* epoch300 *************************\n",
            "loss 258.9594\n",
            " goes opportunity comes on the moment, you better lose it one so lose it only get on the moment, you \n",
            "\n",
            "************************* epoch400 *************************\n",
            "loss 195.7664\n",
            " whe moment, you better lose in the moment, you better lose in the moment, you better lose in the mo \n",
            "\n",
            "************************* epoch500 *************************\n",
            "loss 173.1729\n",
            " wand the moment, you own it only get one shot, you own it only get one shot, you own it only get on \n",
            "\n",
            "************************* epoch600 *************************\n",
            "loss 200.1038\n",
            " call on his momin' once in a lifetime, yo\n",
            "You better lose your chance to blow\n",
            "This opportunity come \n",
            "\n",
            "************************* epoch700 *************************\n",
            "loss 43.0650\n",
            " get one shot, do not miss your chance to blow\n",
            "This opportunity comes once in a lifetime, yo\n",
            "You bet \n",
            "\n",
            "************************* epoch800 *************************\n",
            "loss 167.6912\n",
            " getter\n",
            "Homie go (Go)\n",
            "You only get one shot, do not miss your chance to blow\n",
            "This opportunity comes  \n",
            "\n",
            "************************* epoch900 *************************\n",
            "loss 104.9387\n",
            " get one shot, do not miss your chance to blow\n",
            "This opportunity comes once in a lifetime, yo\n",
            "You bet \n",
            "\n",
            "************************* epoch1000 *************************\n",
            "loss 92.7990\n",
            " whole calm and these got\n",
            "To formulate a plot or my family\n",
            "These hoes home and barely knows his own  \n",
            "\n",
            "************************* epoch1100 *************************\n",
            "loss 23.2793\n",
            " can't get only grows harder\n",
            "Homie grows hotter, he knows hater my seed, plus teeter-totter\n",
            "Caught u \n",
            "\n",
            "************************* epoch1200 *************************\n",
            "loss 71.7876\n",
            " go, his moment, you own it, you better never let it go (Go)\n",
            "You only get one shot, do not miss your \n",
            "\n",
            "************************* epoch1300 *************************\n",
            "loss 15.2692\n",
            " calm and so the soap opera\n",
            "Is told, it on the mood all changed\n",
            "I've been chewed up and spit out and \n",
            "\n",
            "************************* epoch1400 *************************\n",
            "loss 32.4136\n",
            " whole crowd goes so loud\n",
            "He opens his moment and barely knows when him, coast-to-coast shows\n",
            "He's k \n",
            "\n",
            "************************* epoch1500 *************************\n",
            "loss 78.7081\n",
            " can't provide the world order\n",
            "Homie grows hotter, he won't have it\n",
            "He knows his whole back's to blo \n",
            "\n",
            "************************* epoch1600 *************************\n",
            "loss 44.5855\n",
            " choke, he's so mad\n",
            "But he won't give up that easy, no, he won't have it\n",
            "He knows his whole back's t \n",
            "\n",
            "************************* epoch1700 *************************\n",
            "loss 62.2895\n",
            " chance to blow\n",
            "This opportunity comes once in a lifetime, yo\n",
            "You better lose yourself in the music\n",
            " \n",
            "\n",
            "************************* epoch1800 *************************\n",
            "loss 67.8265\n",
            " can't provide the right type of life for my family\n",
            "'Cause, man, these goddamn food stamps don't buy \n",
            "\n",
            "************************* epoch1900 *************************\n",
            "loss 26.5931\n",
            " can't provide the right type of life for my family\n",
            "'Cause, there goes so loud\n",
            "He opens his mouth, b \n",
            "\n",
            "************************* epoch2000 *************************\n",
            "loss 19.7232\n",
            " capture it or just let it go (Go)\n",
            "You only get one shot, do not miss your chance to blow\n",
            "This oppor \n",
            "\n"
          ]
        },
        {
          "output_type": "execute_result",
          "data": {
            "text/plain": [
              "[<matplotlib.lines.Line2D at 0x7ef951b588e0>]"
            ]
          },
          "metadata": {},
          "execution_count": 11
        },
        {
          "output_type": "display_data",
          "data": {
            "text/plain": [
              "<Figure size 640x480 with 1 Axes>"
            ],
            "image/png": "[encoded data removed]"
          },
          "metadata": {}
        }
      ]
    },
    {
      "cell_type": "markdown",
      "source": [
        "### *References*\n",
        "[1] [practical pytorch](https://github.com/spro/practical-pytorch)(https://github.com/spro/practical-pytorch)"
      ],
      "metadata": {
        "id": "zfFFDD-Sd0km"
      }
    }
  ]
}