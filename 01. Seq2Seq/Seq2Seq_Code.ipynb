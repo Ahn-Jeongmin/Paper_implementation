{
 "cells": [
  {
   "cell_type": "code",
   "execution_count": 5,
   "id": "edbde77e-5430-46bd-9ce7-223611a01173",
   "metadata": {},
   "outputs": [
    {
     "name": "stdout",
     "output_type": "stream",
     "text": [
      "Collecting torchtext\n",
      "  Downloading torchtext-0.18.0-cp311-cp311-win_amd64.whl.metadata (7.9 kB)\n",
      "Requirement already satisfied: tqdm in c:\\users\\jordi\\anaconda3\\lib\\site-packages (from torchtext) (4.66.5)\n",
      "Requirement already satisfied: requests in c:\\users\\jordi\\anaconda3\\lib\\site-packages (from torchtext) (2.32.3)\n",
      "Requirement already satisfied: torch>=2.3.0 in c:\\users\\jordi\\anaconda3\\lib\\site-packages (from torchtext) (2.3.1)\n",
      "Requirement already satisfied: numpy in c:\\users\\jordi\\anaconda3\\lib\\site-packages (from torchtext) (1.26.4)\n",
      "Requirement already satisfied: filelock in c:\\users\\jordi\\anaconda3\\lib\\site-packages (from torch>=2.3.0->torchtext) (3.13.1)\n",
      "Requirement already satisfied: typing-extensions>=4.8.0 in c:\\users\\jordi\\anaconda3\\lib\\site-packages (from torch>=2.3.0->torchtext) (4.9.0)\n",
      "Requirement already satisfied: sympy in c:\\users\\jordi\\anaconda3\\lib\\site-packages (from torch>=2.3.0->torchtext) (1.12)\n",
      "Requirement already satisfied: networkx in c:\\users\\jordi\\anaconda3\\lib\\site-packages (from torch>=2.3.0->torchtext) (3.1)\n",
      "Requirement already satisfied: jinja2 in c:\\users\\jordi\\anaconda3\\lib\\site-packages (from torch>=2.3.0->torchtext) (3.1.3)\n",
      "Requirement already satisfied: fsspec in c:\\users\\jordi\\anaconda3\\lib\\site-packages (from torch>=2.3.0->torchtext) (2023.10.0)\n",
      "Requirement already satisfied: mkl<=2021.4.0,>=2021.1.1 in c:\\users\\jordi\\anaconda3\\lib\\site-packages (from torch>=2.3.0->torchtext) (2021.4.0)\n",
      "Requirement already satisfied: charset-normalizer<4,>=2 in c:\\users\\jordi\\anaconda3\\lib\\site-packages (from requests->torchtext) (2.0.4)\n",
      "Requirement already satisfied: idna<4,>=2.5 in c:\\users\\jordi\\anaconda3\\lib\\site-packages (from requests->torchtext) (3.4)\n",
      "Requirement already satisfied: urllib3<3,>=1.21.1 in c:\\users\\jordi\\anaconda3\\lib\\site-packages (from requests->torchtext) (2.0.7)\n",
      "Requirement already satisfied: certifi>=2017.4.17 in c:\\users\\jordi\\anaconda3\\lib\\site-packages (from requests->torchtext) (2024.2.2)\n",
      "Requirement already satisfied: colorama in c:\\users\\jordi\\anaconda3\\lib\\site-packages (from tqdm->torchtext) (0.4.6)\n",
      "Requirement already satisfied: intel-openmp==2021.* in c:\\users\\jordi\\anaconda3\\lib\\site-packages (from mkl<=2021.4.0,>=2021.1.1->torch>=2.3.0->torchtext) (2021.4.0)\n",
      "Requirement already satisfied: tbb==2021.* in c:\\users\\jordi\\anaconda3\\lib\\site-packages (from mkl<=2021.4.0,>=2021.1.1->torch>=2.3.0->torchtext) (2021.12.0)\n",
      "Requirement already satisfied: MarkupSafe>=2.0 in c:\\users\\jordi\\anaconda3\\lib\\site-packages (from jinja2->torch>=2.3.0->torchtext) (2.1.3)\n",
      "Requirement already satisfied: mpmath>=0.19 in c:\\users\\jordi\\anaconda3\\lib\\site-packages (from sympy->torch>=2.3.0->torchtext) (1.3.0)\n",
      "Downloading torchtext-0.18.0-cp311-cp311-win_amd64.whl (1.9 MB)\n",
      "   ---------------------------------------- 0.0/1.9 MB ? eta -:--:--\n",
      "   -------------------- ------------------- 1.0/1.9 MB 31.4 MB/s eta 0:00:01\n",
      "   ---------------------------------------  1.9/1.9 MB 24.8 MB/s eta 0:00:01\n",
      "   ---------------------------------------- 1.9/1.9 MB 15.5 MB/s eta 0:00:00\n",
      "Installing collected packages: torchtext\n",
      "Successfully installed torchtext-0.18.0\n"
     ]
    }
   ],
   "source": [
    "!pip3 install torchtext"
   ]
  },
  {
   "cell_type": "code",
   "execution_count": 15,
   "id": "ece2c02e-abdb-4738-b33f-dccacabb7959",
   "metadata": {},
   "outputs": [
    {
     "name": "stdout",
     "output_type": "stream",
     "text": [
      "Collecting en-core-web-sm==3.8.0\n",
      "  Downloading https://github.com/explosion/spacy-models/releases/download/en_core_web_sm-3.8.0/en_core_web_sm-3.8.0-py3-none-any.whl (12.8 MB)\n",
      "     ---------------------------------------- 0.0/12.8 MB ? eta -:--:--\n",
      "     ---------------------------------------- 0.0/12.8 MB ? eta -:--:--\n",
      "     ---------------------------------------- 0.0/12.8 MB ? eta -:--:--\n",
      "     ---------------------------------------- 0.0/12.8 MB ? eta -:--:--\n",
      "     ---------------------------------------- 0.0/12.8 MB ? eta -:--:--\n",
      "     --------------------------------------- 0.1/12.8 MB 454.0 kB/s eta 0:00:28\n",
      "     --------------------------------------- 0.1/12.8 MB 454.0 kB/s eta 0:00:28\n",
      "     --------------------------------------- 0.1/12.8 MB 454.0 kB/s eta 0:00:28\n",
      "     --------------------------------------- 0.1/12.8 MB 454.0 kB/s eta 0:00:28\n",
      "      -------------------------------------- 0.2/12.8 MB 554.9 kB/s eta 0:00:23\n",
      "      -------------------------------------- 0.2/12.8 MB 554.9 kB/s eta 0:00:23\n",
      "      -------------------------------------- 0.2/12.8 MB 554.9 kB/s eta 0:00:23\n",
      "      -------------------------------------- 0.2/12.8 MB 554.9 kB/s eta 0:00:23\n",
      "      -------------------------------------- 0.3/12.8 MB 470.8 kB/s eta 0:00:27\n",
      "     - ------------------------------------- 0.5/12.8 MB 786.4 kB/s eta 0:00:16\n",
      "     - ------------------------------------- 0.5/12.8 MB 786.4 kB/s eta 0:00:16\n",
      "     - ------------------------------------- 0.5/12.8 MB 786.4 kB/s eta 0:00:16\n",
      "     - ------------------------------------- 0.5/12.8 MB 786.4 kB/s eta 0:00:16\n",
      "     --- ------------------------------------ 1.0/12.8 MB 1.2 MB/s eta 0:00:10\n",
      "     --- ------------------------------------ 1.0/12.8 MB 1.2 MB/s eta 0:00:10\n",
      "     --- ------------------------------------ 1.0/12.8 MB 1.2 MB/s eta 0:00:10\n",
      "     --- ------------------------------------ 1.2/12.8 MB 1.2 MB/s eta 0:00:10\n",
      "     ---- ----------------------------------- 1.4/12.8 MB 1.4 MB/s eta 0:00:09\n",
      "     ----- ---------------------------------- 1.7/12.8 MB 1.5 MB/s eta 0:00:08\n",
      "     ------ --------------------------------- 1.9/12.8 MB 1.7 MB/s eta 0:00:07\n",
      "     ------ --------------------------------- 2.2/12.8 MB 1.9 MB/s eta 0:00:06\n",
      "     ------- -------------------------------- 2.5/12.8 MB 2.0 MB/s eta 0:00:06\n",
      "     -------- ------------------------------- 2.7/12.8 MB 2.1 MB/s eta 0:00:05\n",
      "     --------- ------------------------------ 3.0/12.8 MB 2.3 MB/s eta 0:00:05\n",
      "     ---------- ----------------------------- 3.3/12.8 MB 2.4 MB/s eta 0:00:04\n",
      "     ----------- ---------------------------- 3.5/12.8 MB 2.5 MB/s eta 0:00:04\n",
      "     ----------- ---------------------------- 3.7/12.8 MB 2.6 MB/s eta 0:00:04\n",
      "     ------------ --------------------------- 4.1/12.8 MB 2.7 MB/s eta 0:00:04\n",
      "     ------------- -------------------------- 4.4/12.8 MB 2.8 MB/s eta 0:00:03\n",
      "     -------------- ------------------------- 4.6/12.8 MB 2.9 MB/s eta 0:00:03\n",
      "     --------------- ------------------------ 5.0/12.8 MB 3.0 MB/s eta 0:00:03\n",
      "     --------------- ------------------------ 5.1/12.8 MB 3.0 MB/s eta 0:00:03\n",
      "     ----------------- ---------------------- 5.4/12.8 MB 3.1 MB/s eta 0:00:03\n",
      "     ------------------ --------------------- 5.9/12.8 MB 3.2 MB/s eta 0:00:03\n",
      "     ------------------- -------------------- 6.2/12.8 MB 3.3 MB/s eta 0:00:03\n",
      "     -------------------- ------------------- 6.6/12.8 MB 3.4 MB/s eta 0:00:02\n",
      "     ---------------------- ----------------- 7.1/12.8 MB 3.5 MB/s eta 0:00:02\n",
      "     ----------------------- ---------------- 7.4/12.8 MB 3.6 MB/s eta 0:00:02\n",
      "     ----------------------- ---------------- 7.7/12.8 MB 3.7 MB/s eta 0:00:02\n",
      "     ------------------------- -------------- 8.0/12.8 MB 3.8 MB/s eta 0:00:02\n",
      "     -------------------------- ------------- 8.4/12.8 MB 3.8 MB/s eta 0:00:02\n",
      "     --------------------------- ------------ 8.7/12.8 MB 3.9 MB/s eta 0:00:02\n",
      "     ---------------------------- ----------- 9.1/12.8 MB 4.0 MB/s eta 0:00:01\n",
      "     ----------------------------- ---------- 9.5/12.8 MB 4.1 MB/s eta 0:00:01\n",
      "     ------------------------------ --------- 9.8/12.8 MB 4.1 MB/s eta 0:00:01\n",
      "     ------------------------------- -------- 10.2/12.8 MB 4.2 MB/s eta 0:00:01\n",
      "     --------------------------------- ------ 10.6/12.8 MB 5.5 MB/s eta 0:00:01\n",
      "     ---------------------------------- ----- 10.9/12.8 MB 6.1 MB/s eta 0:00:01\n",
      "     ----------------------------------- ---- 11.3/12.8 MB 6.4 MB/s eta 0:00:01\n",
      "     ------------------------------------ --- 11.7/12.8 MB 6.5 MB/s eta 0:00:01\n",
      "     ------------------------------------- -- 12.1/12.8 MB 6.6 MB/s eta 0:00:01\n",
      "     ---------------------------------------  12.6/12.8 MB 6.7 MB/s eta 0:00:01\n",
      "     ---------------------------------------  12.8/12.8 MB 6.9 MB/s eta 0:00:01\n",
      "     ---------------------------------------  12.8/12.8 MB 6.9 MB/s eta 0:00:01\n",
      "     ---------------------------------------- 12.8/12.8 MB 6.4 MB/s eta 0:00:00\n",
      "Installing collected packages: en-core-web-sm\n",
      "Successfully installed en-core-web-sm-3.8.0\n",
      "\u001b[38;5;2m[+] Download and installation successful\u001b[0m\n",
      "You can now load the package via spacy.load('en_core_web_sm')\n",
      "Collecting de-core-news-sm==3.8.0\n",
      "  Downloading https://github.com/explosion/spacy-models/releases/download/de_core_news_sm-3.8.0/de_core_news_sm-3.8.0-py3-none-any.whl (14.6 MB)\n",
      "     ---------------------------------------- 0.0/14.6 MB ? eta -:--:--\n",
      "     --------------------------------------- 0.0/14.6 MB 640.0 kB/s eta 0:00:23\n",
      "     --------------------------------------- 0.0/14.6 MB 640.0 kB/s eta 0:00:23\n",
      "     --------------------------------------- 0.0/14.6 MB 245.8 kB/s eta 0:01:00\n",
      "     --------------------------------------- 0.1/14.6 MB 451.8 kB/s eta 0:00:33\n",
      "     --------------------------------------- 0.1/14.6 MB 451.8 kB/s eta 0:00:33\n",
      "     --------------------------------------- 0.2/14.6 MB 556.2 kB/s eta 0:00:26\n",
      "      -------------------------------------- 0.2/14.6 MB 654.9 kB/s eta 0:00:22\n",
      "      -------------------------------------- 0.3/14.6 MB 703.7 kB/s eta 0:00:21\n",
      "     - ------------------------------------- 0.5/14.6 MB 960.7 kB/s eta 0:00:15\n",
      "     - -------------------------------------- 0.5/14.6 MB 1.0 MB/s eta 0:00:14\n",
      "     -- ------------------------------------- 0.8/14.6 MB 1.3 MB/s eta 0:00:11\n",
      "     -- ------------------------------------- 1.0/14.6 MB 1.6 MB/s eta 0:00:09\n",
      "     --- ------------------------------------ 1.3/14.6 MB 1.8 MB/s eta 0:00:08\n",
      "     ---- ----------------------------------- 1.8/14.6 MB 2.4 MB/s eta 0:00:06\n",
      "     ----- ---------------------------------- 2.1/14.6 MB 2.7 MB/s eta 0:00:05\n",
      "     ------ --------------------------------- 2.3/14.6 MB 2.7 MB/s eta 0:00:05\n",
      "     -------- ------------------------------- 3.1/14.6 MB 3.5 MB/s eta 0:00:04\n",
      "     ----------- ---------------------------- 4.1/14.6 MB 4.4 MB/s eta 0:00:03\n",
      "     ------------ --------------------------- 4.5/14.6 MB 4.5 MB/s eta 0:00:03\n",
      "     -------------- ------------------------- 5.4/14.6 MB 5.2 MB/s eta 0:00:02\n",
      "     ---------------- ----------------------- 5.9/14.6 MB 5.5 MB/s eta 0:00:02\n",
      "     ------------------ --------------------- 6.9/14.6 MB 6.1 MB/s eta 0:00:02\n",
      "     -------------------- ------------------- 7.4/14.6 MB 6.4 MB/s eta 0:00:02\n",
      "     -------------------- ------------------- 7.4/14.6 MB 6.4 MB/s eta 0:00:02\n",
      "     -------------------- ------------------- 7.4/14.6 MB 6.4 MB/s eta 0:00:02\n",
      "     -------------------- ------------------- 7.4/14.6 MB 6.4 MB/s eta 0:00:02\n",
      "     -------------------- ------------------- 7.4/14.6 MB 6.4 MB/s eta 0:00:02\n",
      "     -------------------- ------------------- 7.4/14.6 MB 6.4 MB/s eta 0:00:02\n",
      "     -------------------- ------------------- 7.4/14.6 MB 6.4 MB/s eta 0:00:02\n",
      "     -------------------- ------------------- 7.4/14.6 MB 6.4 MB/s eta 0:00:02\n",
      "     -------------------- ------------------- 7.4/14.6 MB 6.4 MB/s eta 0:00:02\n",
      "     --------------------- ------------------ 7.8/14.6 MB 4.9 MB/s eta 0:00:02\n",
      "     ------------------------ --------------- 9.0/14.6 MB 5.5 MB/s eta 0:00:02\n",
      "     ---------------------------- ----------- 10.3/14.6 MB 6.0 MB/s eta 0:00:01\n",
      "     ------------------------------ --------- 11.3/14.6 MB 8.8 MB/s eta 0:00:01\n",
      "     ---------------------------------- ---- 12.8/14.6 MB 10.4 MB/s eta 0:00:01\n",
      "     ------------------------------------- - 14.3/14.6 MB 10.7 MB/s eta 0:00:01\n",
      "     --------------------------------------  14.6/14.6 MB 11.1 MB/s eta 0:00:01\n",
      "     --------------------------------------  14.6/14.6 MB 11.1 MB/s eta 0:00:01\n",
      "     --------------------------------------  14.6/14.6 MB 11.1 MB/s eta 0:00:01\n",
      "     ---------------------------------------- 14.6/14.6 MB 9.6 MB/s eta 0:00:00\n",
      "\u001b[38;5;2m[+] Download and installation successful\u001b[0m\n",
      "You can now load the package via spacy.load('de_core_news_sm')\n"
     ]
    }
   ],
   "source": [
    "!python -m spacy download en_core_web_sm\n",
    "!python -m spacy download de_core_news_sm"
   ]
  },
  {
   "cell_type": "code",
   "execution_count": 1,
   "id": "449fe568-b34f-49e4-804a-2f9aaa42507e",
   "metadata": {},
   "outputs": [],
   "source": [
    "import spacy\n",
    "\n",
    "#토큰 단위로 청킹하는 토큰화 작업을 실행 -> 단어 사전 만드는 데에 활용\n",
    "spacy_en = spacy.load('en-core-web-sm') # 영어 토큰화(tokenization)\n",
    "spacy_de = spacy.load(\"de_core_news_sm\") # 독일어 토큰화(tokenization)"
   ]
  },
  {
   "cell_type": "code",
   "execution_count": 2,
   "id": "ec006688-cf55-4cc3-b461-282f5e89fd02",
   "metadata": {},
   "outputs": [
    {
     "name": "stdout",
     "output_type": "stream",
     "text": [
      "인덱스 0: I\n",
      "인덱스 1: am\n",
      "인덱스 2: a\n",
      "인덱스 3: graduate\n",
      "인덱스 4: student\n",
      "인덱스 5: .\n"
     ]
    }
   ],
   "source": [
    "tokenized = spacy_en.tokenizer(\"I am a graduate student.\")\n",
    "\n",
    "for i, token in enumerate(tokenized):\n",
    "    print(f\"인덱스 {i}: {token.text}\")"
   ]
  },
  {
   "cell_type": "code",
   "execution_count": 3,
   "id": "e34d0c3a-cd54-4f9f-a985-651e370ab933",
   "metadata": {},
   "outputs": [],
   "source": [
    "# 독일어(Deutsch) 문장을 토큰화한 뒤에 순서를 뒤집는 함수\n",
    "def tokenize_de(text):\n",
    "    return [token.text for token in spacy_de.tokenizer(text)][::-1] #순서 뒤집어서 입력하면 더 성능이 높았음(논문 상의 내용)\n",
    "\n",
    "# 영어(English) 문장을 토큰화 하는 함수\n",
    "def tokenize_en(text):\n",
    "    return [token.text for token in spacy_en.tokenizer(text)]"
   ]
  },
  {
   "cell_type": "code",
   "execution_count": 10,
   "id": "002a5e89-a117-43ed-a551-279e56cf3ac3",
   "metadata": {},
   "outputs": [],
   "source": [
    "import torchtext\n",
    "torchtext.disable_torchtext_deprecation_warning()\n"
   ]
  },
  {
   "cell_type": "code",
   "execution_count": 5,
   "id": "9bfe8edd-4b8c-49c3-ab7d-45b87d0a20ed",
   "metadata": {},
   "outputs": [],
   "source": [
    "from torchtext.data import Field, BucketIterator\n",
    "#상위 버전 torchtext는 Field와 BucketIterator 미지원, 0.8.0 버전 이하로 다운그레이드해서 실행\n",
    "#Field 라이브러리를 활용해서 구체적인 전처리 내용 명시\n",
    "#번역 목표:\n",
    "#SRC : 소스, 독일어, 출발점\n",
    "#TRG : 목표, 영어, 도착지점\n",
    "\n",
    "SRC = Field(tokenize=tokenize_de, init_token=\"\", eos_token=\"\", lower=True) #토크나이저는 en_core_web_md, eos 토큰 \"\"로 지정\n",
    "TRG = Field(tokenize=tokenize_en, init_token=\"\", eos_token=\"\", lower=True) #토크나이저는de_core_news_sm, eos 토큰 \"\"로 지정\n"
   ]
  },
  {
   "cell_type": "code",
   "execution_count": 19,
   "id": "b4b20386-5694-42fd-b51f-2acf1966bcec",
   "metadata": {},
   "outputs": [
    {
     "name": "stdout",
     "output_type": "stream",
     "text": [
      "Training data size: 23200\n",
      "Validation data size: 5800\n",
      "Test data size: 1000\n"
     ]
    }
   ],
   "source": [
    "import pandas as pd\n",
    "from sklearn.model_selection import train_test_split\n",
    "\n",
    "\n",
    "data = pd.read_csv(\"translation_train.csv\")\n",
    "train_data, val_data = train_test_split(data, test_size=0.2, random_state=42)\n",
    "\n",
    "train_data.to_csv(\"train_data.csv\", index=False)\n",
    "val_data.to_csv(\"val_data.csv\", index=False)\n",
    "\n",
    "print(\"Training data size:\", len(train_data))\n",
    "print(\"Validation data size:\", len(val_data))\n",
    "\n",
    "test_dataset = pd.read_csv(\"translation_test.csv\")\n",
    "\n",
    "print(\"Test data size:\", len(test_dataset))"
   ]
  },
  {
   "cell_type": "code",
   "execution_count": 23,
   "id": "1dd06f18-42e5-4431-812e-91e4bc368e5d",
   "metadata": {},
   "outputs": [],
   "source": [
    "from torchtext.data import TabularDataset\n",
    "\n",
    "# Step 5: Use TabularDataset to load the CSV files into torchtext format\n",
    "train_dataset, valid_dataset, test_dataset = TabularDataset.splits(\n",
    "    path=\"\",  # Specify path if files are in a different directory\n",
    "    train=\"train_data.csv\",\n",
    "    validation=\"val_data.csv\",\n",
    "    test=\"translation_test.csv\",\n",
    "    format=\"csv\",\n",
    "    fields=[('trg', TRG), ('src', SRC)]\n",
    ")"
   ]
  },
  {
   "cell_type": "code",
   "execution_count": 24,
   "id": "f0e3e6c3-d017-45f5-bec9-23687347415a",
   "metadata": {},
   "outputs": [
    {
     "name": "stdout",
     "output_type": "stream",
     "text": [
      "['Ein', 'schlafendes', 'Kind', 'und', 'eine', 'Person', ',', 'die', 'ein', 'Buch', 'hält', '.']\n",
      "['A', 'child', 'sleeping', 'as', 'a', 'person', 'holds', 'a', 'book', '.']\n"
     ]
    }
   ],
   "source": [
    "# 학습 데이터 중 하나를 선택해 출력\n",
    "print(vars(train_dataset.examples[30])['src'])\n",
    "print(vars(train_dataset.examples[30])['trg'])"
   ]
  },
  {
   "cell_type": "code",
   "execution_count": 27,
   "id": "5dbd3f7f-2a9a-4c31-8219-10d033f63975",
   "metadata": {},
   "outputs": [
    {
     "name": "stdout",
     "output_type": "stream",
     "text": [
      "len(SRC): 16873\n",
      "len(TRG): 9818\n"
     ]
    }
   ],
   "source": [
    "#필드 객체의 build_vocab 메서드를 활용해서 영어와 독어 단어사전 생성\n",
    "SRC.build_vocab(train_dataset, min_freq=1)\n",
    "TRG.build_vocab(train_dataset, min_freq=1)\n",
    "\n",
    "print(f\"len(SRC): {len(SRC.vocab)}\")\n",
    "print(f\"len(TRG): {len(TRG.vocab)}\")"
   ]
  },
  {
   "cell_type": "code",
   "execution_count": 31,
   "id": "83acc5bb-4538-4fdf-8b77-0434ed68a2a4",
   "metadata": {},
   "outputs": [
    {
     "name": "stdout",
     "output_type": "stream",
     "text": [
      "0\n",
      "1\n",
      "4224\n",
      "4224\n",
      "8010\n",
      "2181\n"
     ]
    }
   ],
   "source": [
    "print(TRG.vocab.stoi[\"abcabc\"]) # 없는 단어: 0\n",
    "print(TRG.vocab.stoi[TRG.pad_token]) # 패딩(padding): 1\n",
    "print(TRG.vocab.stoi[\"\"]) # : 2\n",
    "print(TRG.vocab.stoi[\"\"]) # : 3\n",
    "print(TRG.vocab.stoi[\"hello\"])\n",
    "print(TRG.vocab.stoi[\"world\"])"
   ]
  },
  {
   "cell_type": "code",
   "execution_count": 29,
   "id": "dda109dc-06c5-4910-b592-05ffe774b926",
   "metadata": {},
   "outputs": [],
   "source": [
    "import torch\n",
    "\n",
    "device = torch.device('cuda' if torch.cuda.is_available() else 'cpu')\n",
    "\n",
    "BATCH_SIZE = 128\n",
    "\n",
    "# 일반적인 데이터 로더(data loader)의 iterator와 유사하게 사용 가능\n",
    "train_iterator, valid_iterator, test_iterator = BucketIterator.splits(\n",
    "    (train_dataset, valid_dataset, test_dataset),\n",
    "    batch_size=BATCH_SIZE,\n",
    "    device=device)"
   ]
  },
  {
   "cell_type": "code",
   "execution_count": 30,
   "id": "8bc85516-20c2-4842-84ad-5c8406a649ba",
   "metadata": {},
   "outputs": [
    {
     "name": "stdout",
     "output_type": "stream",
     "text": [
      "첫 번째 배치 크기: torch.Size([24, 128])\n",
      "인덱스 0: 2\n",
      "인덱스 1: 5\n",
      "인덱스 2: 12\n",
      "인덱스 3: 7\n",
      "인덱스 4: 16\n",
      "인덱스 5: 101\n",
      "인덱스 6: 45\n",
      "인덱스 7: 559\n",
      "인덱스 8: 9\n",
      "인덱스 9: 10\n",
      "인덱스 10: 197\n",
      "인덱스 11: 9\n",
      "인덱스 12: 280\n",
      "인덱스 13: 4\n",
      "인덱스 14: 3\n",
      "인덱스 15: 1\n",
      "인덱스 16: 1\n",
      "인덱스 17: 1\n",
      "인덱스 18: 1\n",
      "인덱스 19: 1\n",
      "인덱스 20: 1\n",
      "인덱스 21: 1\n",
      "인덱스 22: 1\n",
      "인덱스 23: 1\n"
     ]
    }
   ],
   "source": [
    "for i, batch in enumerate(train_iterator):\n",
    "    src = batch.src\n",
    "    trg = batch.trg\n",
    "\n",
    "    print(f\"첫 번째 배치 크기: {src.shape}\")\n",
    "\n",
    "    # 현재 배치에 있는 하나의 문장에 포함된 정보 출력\n",
    "    for i in range(src.shape[0]):\n",
    "        print(f\"인덱스 {i}: {src[i][0].item()}\")\n",
    "\n",
    "    # 첫 번째 배치만 확인\n",
    "    break"
   ]
  },
  {
   "cell_type": "markdown",
   "id": "2bd9127e-7810-444d-bc00-122eebba5510",
   "metadata": {},
   "source": [
    "## 인코더 아키텍처"
   ]
  },
  {
   "cell_type": "code",
   "execution_count": 32,
   "id": "30be5f8a-0621-439e-9b65-889129b757ff",
   "metadata": {},
   "outputs": [],
   "source": [
    "import torch.nn as nn\n",
    "\n",
    "# 인코더(Encoder) 아키텍처 정의\n",
    "class Encoder(nn.Module):\n",
    "    def __init__(self, input_dim, embed_dim, hidden_dim, n_layers, dropout_ratio):\n",
    "        super().__init__()\n",
    "\n",
    "        # 임베딩(embedding)은 원-핫 인코딩(one-hot encoding)을 특정 차원의 임베딩으로 매핑하는 레이어\n",
    "        self.embedding = nn.Embedding(input_dim, embed_dim)\n",
    "\n",
    "        # LSTM 레이어\n",
    "        self.hidden_dim = hidden_dim\n",
    "        self.n_layers = n_layers\n",
    "        self.rnn = nn.LSTM(embed_dim, hidden_dim, n_layers, dropout=dropout_ratio) # torch에 LSTM 함수가 존재...!\n",
    "        \n",
    "        # 드롭아웃(dropout)\n",
    "        self.dropout = nn.Dropout(dropout_ratio)\n",
    "\n",
    "    # 인코더는 소스 문장을 입력으로 받아 문맥 벡터(context vector)를 반환 -> Seq2Seq 특징 : 하나의 문맥 벡터에 모든 문맥을 담음\n",
    "    #문맥 벡터는 가장 마지막 hidden layer을 채택\n",
    "    def forward(self, src):\n",
    "        # src: [단어 개수, 배치 크기]: 각 단어의 인덱스(index) 정보\n",
    "        embedded = self.dropout(self.embedding(src))\n",
    "        # embedded: [단어 개수, 배치 크기, 임베딩 차원]\n",
    "\n",
    "        outputs, (hidden, cell) = self.rnn(embedded)\n",
    "        # outputs: [단어 개수, 배치 크기, 히든 차원]: 현재 단어의 출력 정보\n",
    "        # hidden: [레이어 개수, 배치 크기, 히든 차원]: 현재까지의 모든 단어의 정보\n",
    "        # cell: [레이어 개수, 배치 크기, 히든 차원]: 현재까지의 모든 단어의 정보\n",
    "\n",
    "        # 문맥 벡터(context vector) 반환\n",
    "        return hidden, cell"
   ]
  },
  {
   "cell_type": "markdown",
   "id": "47d4c06c-1af1-40d5-b729-1e10e6ce6742",
   "metadata": {},
   "source": [
    "## 디코더(Decoder) 아키텍처"
   ]
  },
  {
   "cell_type": "code",
   "execution_count": 33,
   "id": "08fde6c2-da30-4688-ae5c-18d8135e9b82",
   "metadata": {},
   "outputs": [],
   "source": [
    "# 디코더(Decoder) 아키텍처 정의\n",
    "class Decoder(nn.Module):\n",
    "    def __init__(self, output_dim, embed_dim, hidden_dim, n_layers, dropout_ratio):\n",
    "        super().__init__()\n",
    "\n",
    "        # 임베딩(embedding)은 원-핫 인코딩(one-hot encoding) 말고 특정 차원의 임베딩으로 매핑하는 레이어\n",
    "        self.embedding = nn.Embedding(output_dim, embed_dim)\n",
    "\n",
    "        # LSTM 레이어\n",
    "        self.hidden_dim = hidden_dim\n",
    "        self.n_layers = n_layers\n",
    "        self.rnn = nn.LSTM(embed_dim, hidden_dim, n_layers, dropout=dropout_ratio)\n",
    "        \n",
    "        # FC 레이어 (인코더와 구조적으로 다른 부분)\n",
    "        self.output_dim = output_dim\n",
    "        self.fc_out = nn.Linear(hidden_dim, output_dim)\n",
    "        \n",
    "        # 드롭아웃(dropout)\n",
    "        self.dropout = nn.Dropout(dropout_ratio)\n",
    "\n",
    "    # 디코더는 현재까지 출력된 문장에 대한 정보를 입력으로 받아 타겟 문장을 반환     \n",
    "    def forward(self, input, hidden, cell):\n",
    "        # input: [배치 크기]: 단어의 개수는 항상 1개이도록 구현\n",
    "        # hidden: [레이어 개수, 배치 크기, 히든 차원]\n",
    "        # cell = context: [레이어 개수, 배치 크기, 히든 차원]\n",
    "        input = input.unsqueeze(0)\n",
    "        # input: [단어 개수 = 1, 배치 크기]\n",
    "        \n",
    "        embedded = self.dropout(self.embedding(input))\n",
    "        # embedded: [단어 개수, 배치 크기, 임베딩 차원]\n",
    "\n",
    "        output, (hidden, cell) = self.rnn(embedded, (hidden, cell))\n",
    "        # output: [단어 개수 = 1, 배치 크기, 히든 차원]: 현재 단어의 출력 정보\n",
    "        # hidden: [레이어 개수, 배치 크기, 히든 차원]: 현재까지의 모든 단어의 정보\n",
    "        # cell: [레이어 개수, 배치 크기, 히든 차원]: 현재까지의 모든 단어의 정보\n",
    "\n",
    "        # 단어 개수는 어차피 1개이므로 차원 제거\n",
    "        prediction = self.fc_out(output.squeeze(0))\n",
    "        # prediction = [배치 크기, 출력 차원]\n",
    "        \n",
    "        # (현재 출력 단어, 현재까지의 모든 단어의 정보, 현재까지의 모든 단어의 정보)\n",
    "        return prediction, hidden, cell"
   ]
  },
  {
   "cell_type": "markdown",
   "id": "d643fba7-6fd1-407b-9494-307d0578b3bd",
   "metadata": {},
   "source": [
    "## Seq2Seq 아키텍처"
   ]
  },
  {
   "cell_type": "code",
   "execution_count": 34,
   "id": "b8a6f821-77f5-4667-b71a-debe514b5d24",
   "metadata": {},
   "outputs": [],
   "source": [
    "class Seq2Seq(nn.Module):\n",
    "    def __init__(self, encoder, decoder, device):\n",
    "        super().__init__()\n",
    "\n",
    "        self.encoder = encoder\n",
    "        self.decoder = decoder\n",
    "        self.device = device\n",
    "\n",
    "    # 학습할 때는 완전한 형태의 소스 문장, 타겟 문장, teacher_forcing_ratio를 넣기\n",
    "    def forward(self, src, trg, teacher_forcing_ratio=0.5):\n",
    "        # src: [단어 개수, 배치 크기]\n",
    "        # trg: [단어 개수, 배치 크기]\n",
    "        # 먼저 인코더를 거쳐 문맥 벡터(context vector)를 추출\n",
    "        hidden, cell = self.encoder(src)\n",
    "\n",
    "        # 디코더(decoder)의 최종 결과를 담을 텐서 객체 만들기\n",
    "        trg_len = trg.shape[0] # 단어 개수\n",
    "        batch_size = trg.shape[1] # 배치 크기\n",
    "        trg_vocab_size = self.decoder.output_dim # 출력 차원\n",
    "        outputs = torch.zeros(trg_len, batch_size, trg_vocab_size).to(self.device)\n",
    "\n",
    "        # 첫 번째 입력은 항상  토큰\n",
    "        input = trg[0, :]\n",
    "\n",
    "        # 타겟 단어의 개수만큼 반복하여 디코더에 포워딩(forwarding)\n",
    "        for t in range(1, trg_len):\n",
    "            output, hidden, cell = self.decoder(input, hidden, cell)\n",
    "\n",
    "            outputs[t] = output # FC를 거쳐서 나온 현재의 출력 단어 정보\n",
    "            top1 = output.argmax(1) # 가장 확률이 높은 단어의 인덱스 추출\n",
    "\n",
    "            # teacher_forcing_ratio: 학습할 때 실제 목표 출력(ground-truth)을 사용하는 비율\n",
    "            teacher_force = random.random() < teacher_forcing_ratio\n",
    "            input = trg[t] if teacher_force else top1 # 현재의 출력 결과를 다음 입력에서 넣기\n",
    "        \n",
    "        return outputs"
   ]
  },
  {
   "cell_type": "code",
   "execution_count": 35,
   "id": "14dd9f98-8fd1-4ce0-8a7f-896a35f77faa",
   "metadata": {},
   "outputs": [],
   "source": [
    "INPUT_DIM = len(SRC.vocab)\n",
    "OUTPUT_DIM = len(TRG.vocab)\n",
    "ENCODER_EMBED_DIM = 256\n",
    "DECODER_EMBED_DIM = 256\n",
    "HIDDEN_DIM = 512\n",
    "N_LAYERS = 2\n",
    "ENC_DROPOUT_RATIO = 0.5\n",
    "DEC_DROPOUT_RATIO = 0.5"
   ]
  },
  {
   "cell_type": "code",
   "execution_count": 36,
   "id": "a4387eef-a366-4379-805b-f68cab6e4111",
   "metadata": {},
   "outputs": [],
   "source": [
    "# 인코더(encoder)와 디코더(decoder) 객체 선언\n",
    "enc = Encoder(INPUT_DIM, ENCODER_EMBED_DIM, HIDDEN_DIM, N_LAYERS, ENC_DROPOUT_RATIO)\n",
    "dec = Decoder(OUTPUT_DIM, DECODER_EMBED_DIM, HIDDEN_DIM, N_LAYERS, DEC_DROPOUT_RATIO)\n",
    "\n",
    "# Seq2Seq 객체 선언\n",
    "model = Seq2Seq(enc, dec, device).to(device)"
   ]
  },
  {
   "cell_type": "code",
   "execution_count": 37,
   "id": "4991ca65-e76f-4b30-aca1-16375bfb4231",
   "metadata": {},
   "outputs": [
    {
     "data": {
      "text/plain": [
       "Seq2Seq(\n",
       "  (encoder): Encoder(\n",
       "    (embedding): Embedding(16873, 256)\n",
       "    (rnn): LSTM(256, 512, num_layers=2, dropout=0.5)\n",
       "    (dropout): Dropout(p=0.5, inplace=False)\n",
       "  )\n",
       "  (decoder): Decoder(\n",
       "    (embedding): Embedding(9818, 256)\n",
       "    (rnn): LSTM(256, 512, num_layers=2, dropout=0.5)\n",
       "    (fc_out): Linear(in_features=512, out_features=9818, bias=True)\n",
       "    (dropout): Dropout(p=0.5, inplace=False)\n",
       "  )\n",
       ")"
      ]
     },
     "execution_count": 37,
     "metadata": {},
     "output_type": "execute_result"
    }
   ],
   "source": [
    "def init_weights(m):\n",
    "    for name, param in m.named_parameters():\n",
    "        nn.init.uniform_(param.data, -0.08, 0.08)\n",
    "        \n",
    "model.apply(init_weights)"
   ]
  },
  {
   "cell_type": "code",
   "execution_count": 38,
   "id": "83bd2e9f-5392-4ab1-80a4-8488cf3a4014",
   "metadata": {},
   "outputs": [],
   "source": [
    "import torch.optim as optim\n",
    "\n",
    "# Adam optimizer로 학습 최적화\n",
    "optimizer = optim.Adam(model.parameters())\n",
    "\n",
    "# 뒷 부분의 패딩(padding)에 대해서는 값 무시\n",
    "TRG_PAD_IDX = TRG.vocab.stoi[TRG.pad_token]\n",
    "criterion = nn.CrossEntropyLoss(ignore_index=TRG_PAD_IDX)"
   ]
  },
  {
   "cell_type": "code",
   "execution_count": 39,
   "id": "dd835368-f6d5-4466-af19-f571c939e41b",
   "metadata": {},
   "outputs": [],
   "source": [
    "# 모델 학습(train) 함수\n",
    "def train(model, iterator, optimizer, criterion, clip):\n",
    "    model.train() # 학습 모드\n",
    "    epoch_loss = 0\n",
    "    \n",
    "    # 전체 학습 데이터를 확인하며\n",
    "    for i, batch in enumerate(iterator):\n",
    "        src = batch.src\n",
    "        trg = batch.trg\n",
    "        \n",
    "        optimizer.zero_grad()\n",
    "\n",
    "        output = model(src, trg)\n",
    "        # output: [출력 단어 개수, 배치 크기, 출력 차원]\n",
    "        output_dim = output.shape[-1]\n",
    "        \n",
    "        # 출력 단어의 인덱스 0은 사용하지 않음\n",
    "        output = output[1:].view(-1, output_dim)\n",
    "        # output = [(출력 단어의 개수 - 1) * batch size, output dim]\n",
    "        trg = trg[1:].view(-1)\n",
    "        # trg = [(타겟 단어의 개수 - 1) * batch size]\n",
    "        \n",
    "        # 모델의 출력 결과와 타겟 문장을 비교하여 손실 계산\n",
    "        loss = criterion(output, trg)\n",
    "        loss.backward() # 기울기(gradient) 계산\n",
    "        \n",
    "        # 기울기(gradient) clipping 진행\n",
    "        torch.nn.utils.clip_grad_norm_(model.parameters(), clip)\n",
    "        \n",
    "        # 파라미터 업데이트\n",
    "        optimizer.step()\n",
    "        \n",
    "        # 전체 손실 값 계산\n",
    "        epoch_loss += loss.item()\n",
    "        \n",
    "    return epoch_loss / len(iterator)"
   ]
  },
  {
   "cell_type": "code",
   "execution_count": 40,
   "id": "1dad83ad-5434-4302-8361-478d65c8f5af",
   "metadata": {},
   "outputs": [],
   "source": [
    "# 모델 평가(evaluate) 함수\n",
    "def evaluate(model, iterator, criterion):\n",
    "    model.eval() # 평가 모드\n",
    "    epoch_loss = 0\n",
    "    \n",
    "    with torch.no_grad():\n",
    "        # 전체 평가 데이터를 확인하며\n",
    "        for i, batch in enumerate(iterator):\n",
    "            src = batch.src\n",
    "            trg = batch.trg\n",
    "\n",
    "            # 평가할 때 teacher forcing는 사용하지 않음\n",
    "            output = model(src, trg, 0)\n",
    "            # output: [출력 단어 개수, 배치 크기, 출력 차원]\n",
    "            output_dim = output.shape[-1]\n",
    "            \n",
    "            # 출력 단어의 인덱스 0은 사용하지 않음\n",
    "            output = output[1:].view(-1, output_dim)\n",
    "            # output = [(출력 단어의 개수 - 1) * batch size, output dim]\n",
    "            trg = trg[1:].view(-1)\n",
    "            # trg = [(타겟 단어의 개수 - 1) * batch size]\n",
    "\n",
    "            # 모델의 출력 결과와 타겟 문장을 비교하여 손실 계산\n",
    "            loss = criterion(output, trg)\n",
    "\n",
    "            # 전체 손실 값 계산\n",
    "            epoch_loss += loss.item()\n",
    "        \n",
    "    return epoch_loss / len(iterator)"
   ]
  },
  {
   "cell_type": "code",
   "execution_count": 41,
   "id": "8080a179-940c-44cb-a287-554e379ee091",
   "metadata": {},
   "outputs": [],
   "source": [
    "def epoch_time(start_time, end_time):\n",
    "    elapsed_time = end_time - start_time\n",
    "    elapsed_mins = int(elapsed_time / 60)\n",
    "    elapsed_secs = int(elapsed_time - (elapsed_mins * 60))\n",
    "    return elapsed_mins, elapsed_secs"
   ]
  },
  {
   "cell_type": "code",
   "execution_count": null,
   "id": "b7fc83ff-2d95-4a10-8c3b-8efab05648ad",
   "metadata": {},
   "outputs": [],
   "source": [
    "import time\n",
    "import math\n",
    "import random\n",
    "\n",
    "N_EPOCHS = 20\n",
    "CLIP = 1\n",
    "best_valid_loss = float('inf')\n",
    "\n",
    "for epoch in range(N_EPOCHS):\n",
    "    start_time = time.time() # 시작 시간 기록\n",
    "\n",
    "    train_loss = train(model, train_iterator, optimizer, criterion, CLIP)\n",
    "    valid_loss = evaluate(model, valid_iterator, criterion)\n",
    "\n",
    "    end_time = time.time() # 종료 시간 기록\n",
    "    epoch_mins, epoch_secs = epoch_time(start_time, end_time)\n",
    "\n",
    "    if valid_loss < best_valid_loss:\n",
    "        best_valid_loss = valid_loss\n",
    "        torch.save(model.state_dict(), 'seq2seq.pt')\n",
    "\n",
    "    print(f'Epoch: {epoch + 1:02} | Time: {epoch_mins}m {epoch_secs}s')\n",
    "    print(f'\\tTrain Loss: {train_loss:.3f} | Train PPL: {math.exp(train_loss):.3f}')\n",
    "    print(f'\\tValidation Loss: {valid_loss:.3f} | Validation PPL: {math.exp(valid_loss):.3f}')"
   ]
  },
  {
   "cell_type": "code",
   "execution_count": null,
   "id": "60773ec2-d625-4677-a614-5d55f9fd3364",
   "metadata": {},
   "outputs": [],
   "source": [
    "model.load_state_dict(torch.load('seq2seq.pt'))\n",
    "\n",
    "test_loss = evaluate(model, test_iterator, criterion)\n",
    "\n",
    "print(f'Test Loss: {test_loss:.3f} | Test PPL: {math.exp(test_loss):.3f}')"
   ]
  }
 ],
 "metadata": {
  "kernelspec": {
   "display_name": "Python 3 (ipykernel)",
   "language": "python",
   "name": "python3"
  },
  "language_info": {
   "codemirror_mode": {
    "name": "ipython",
    "version": 3
   },
   "file_extension": ".py",
   "mimetype": "text/x-python",
   "name": "python",
   "nbconvert_exporter": "python",
   "pygments_lexer": "ipython3",
   "version": "3.11.7"
  }
 },
 "nbformat": 4,
 "nbformat_minor": 5
}
